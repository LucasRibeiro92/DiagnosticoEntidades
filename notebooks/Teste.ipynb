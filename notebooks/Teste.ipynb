{
 "cells": [
  {
   "cell_type": "code",
   "id": "initial_id",
   "metadata": {
    "collapsed": true,
    "ExecuteTime": {
     "end_time": "2025-05-07T01:12:23.863647Z",
     "start_time": "2025-05-07T01:12:23.861323Z"
    }
   },
   "source": "print(\"Olá, Jupyter!\")",
   "outputs": [
    {
     "name": "stdout",
     "output_type": "stream",
     "text": [
      "Olá, Jupyter!\n"
     ]
    }
   ],
   "execution_count": 2
  },
  {
   "metadata": {},
   "cell_type": "code",
   "source": [
    "import pandas as pd\n",
    "import matplotlib.pyplot as plt\n",
    "\n",
    "print(\"Bibliotecas importadas com sucesso!\")"
   ],
   "id": "787c04087d8575bd",
   "outputs": [],
   "execution_count": null
  },
  {
   "metadata": {},
   "cell_type": "code",
   "source": [
    "df = pd.read_csv(\"C:/PythonProjects/diagnosticoentidades/data/processed/execucoes_exportadas.csv\")\n",
    "df.head()"
   ],
   "id": "8b0b93121bc9c6ca",
   "outputs": [],
   "execution_count": null
  },
  {
   "metadata": {
    "ExecuteTime": {
     "end_time": "2025-05-07T01:12:13.802316Z",
     "start_time": "2025-05-07T01:12:13.497333Z"
    }
   },
   "cell_type": "code",
   "source": [
    "#df.info()\n",
    "#df[\"tempo_execucao_seg\"].describe()\n",
    "#df[\"status_execucao\"].value_counts()\n",
    "df[\"tempo_execucao_seg\"].hist()"
   ],
   "id": "c6d498e4c0892b40",
   "outputs": [
    {
     "ename": "NameError",
     "evalue": "name 'df' is not defined",
     "output_type": "error",
     "traceback": [
      "\u001B[31m---------------------------------------------------------------------------\u001B[39m",
      "\u001B[31mNameError\u001B[39m                                 Traceback (most recent call last)",
      "\u001B[36mCell\u001B[39m\u001B[36m \u001B[39m\u001B[32mIn[1]\u001B[39m\u001B[32m, line 4\u001B[39m\n\u001B[32m      1\u001B[39m \u001B[38;5;66;03m#df.info()\u001B[39;00m\n\u001B[32m      2\u001B[39m \u001B[38;5;66;03m#df[\"tempo_execucao_seg\"].describe()\u001B[39;00m\n\u001B[32m      3\u001B[39m \u001B[38;5;66;03m#df[\"status_execucao\"].value_counts()\u001B[39;00m\n\u001B[32m----> \u001B[39m\u001B[32m4\u001B[39m \u001B[43mdf\u001B[49m[\u001B[33m\"\u001B[39m\u001B[33mtempo_execucao_seg\u001B[39m\u001B[33m\"\u001B[39m].hist()\n",
      "\u001B[31mNameError\u001B[39m: name 'df' is not defined"
     ]
    }
   ],
   "execution_count": 1
  },
  {
   "metadata": {},
   "cell_type": "markdown",
   "source": [
    "## Observações Iniciais\n",
    "\n",
    "- Dados lidos corretamente.\n",
    "- Tipos de status encontrados:\n",
    "  - Sucesso\n",
    "  - Timeout\n",
    "  - Erro\n",
    "  - Cancelado"
   ],
   "id": "8cc4f7dd7b11f3c8"
  },
  {
   "metadata": {},
   "cell_type": "code",
   "outputs": [],
   "execution_count": null,
   "source": "",
   "id": "56c9c5b61c52b3c8"
  }
 ],
 "metadata": {
  "kernelspec": {
   "display_name": "Python 3",
   "language": "python",
   "name": "python3"
  },
  "language_info": {
   "codemirror_mode": {
    "name": "ipython",
    "version": 2
   },
   "file_extension": ".py",
   "mimetype": "text/x-python",
   "name": "python",
   "nbconvert_exporter": "python",
   "pygments_lexer": "ipython2",
   "version": "2.7.6"
  }
 },
 "nbformat": 4,
 "nbformat_minor": 5
}
